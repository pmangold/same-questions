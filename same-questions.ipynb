{
 "cells": [
  {
   "cell_type": "markdown",
   "metadata": {},
   "source": [
    "# ALTEGRAD - Detection of questions with same meaning\n",
    "\n",
    "This notebook loads the data, extract features, classify the test set and save it to 'submissions.csv', a file to be submitted on Kaggle.\n",
    "\n",
    "## Definition of the problem\n",
    "\n",
    "The problem is a set of pairs of questions, where the output to predict is whether both questions in a pair have the same meaning or not.\n",
    "\n",
    "Let's first import some libraries and define functions for score computations, cross-validation, etc."
   ]
  },
  {
   "cell_type": "code",
   "execution_count": 78,
   "metadata": {
    "collapsed": true
   },
   "outputs": [],
   "source": [
    "import numpy as np\n",
    "import unidecode\n",
    "\n",
    "from sklearn.ensemble import RandomForestClassifier\n",
    "from sklearn.linear_model import LinearRegression\n",
    "\n",
    "from sklearn.feature_extraction.text import TfidfVectorizer\n",
    "from sklearn.metrics.pairwise import cosine_similarity\n",
    "from sklearn.model_selection import cross_validate\n",
    "from sklearn.metrics import make_scorer\n",
    "\n",
    "from sklearn.model_selection import GridSearchCV\n",
    "\n",
    "import string\n",
    "import nltk\n",
    "from nltk.stem.snowball import SnowballStemmer\n",
    "\n",
    "# for displaying score\n",
    "class color:\n",
    "    PURPLE = '\\033[95m'\n",
    "    CYAN = '\\033[96m'\n",
    "    DARKCYAN = '\\033[36m'\n",
    "    BLUE = '\\033[94m'\n",
    "    GREEN = '\\033[92m'\n",
    "    YELLOW = '\\033[93m'\n",
    "    RED = '\\033[91m'\n",
    "    BOLD = '\\033[1m'\n",
    "    UNDERLINE = '\\033[4m'\n",
    "    END = '\\033[0m'\n"
   ]
  },
  {
   "cell_type": "code",
   "execution_count": 113,
   "metadata": {},
   "outputs": [],
   "source": [
    "def loss(y, p):\n",
    "    N = y.shape[0]\n",
    "    l = 0\n",
    "    ignored = 0\n",
    "    for i in range(N):\n",
    "        if (y[i] == 0 and p[i][1] == 1.) or (y[i] == 1 and p[i][1] == 0.):\n",
    "            ignored += 1\n",
    "        else:\n",
    "            if y[i] == 0:\n",
    "                l -= np.log(1 - p[i][1])\n",
    "            else:\n",
    "                l -= np.log(p[i][1])\n",
    "    return l / (N - ignored)\n",
    "\n",
    "\n",
    "def compute_score(clf, X, y):\n",
    "    scorer = make_scorer(loss, greater_is_better = True, needs_proba = True)\n",
    "    return scorer(clf, X, y)\n",
    "\n",
    "\n",
    "def compute_cv_score(clf, X, y, cv = 5):\n",
    "    loss_scorer = make_scorer(loss, greater_is_better = True, needs_proba = True)\n",
    "    scoring = {'acc': 'accuracy',\n",
    "               'loss': loss_scorer}\n",
    "    scores = cross_validate(clf, X, y, scoring=scoring,\n",
    "                             cv=cv, return_train_score=True)  \n",
    "    \n",
    "    return scores\n",
    "\n",
    "\n",
    "def html_color(text, color, bold=True):\n",
    "    b = ''\n",
    "    if bold:\n",
    "        b = 'font-weight: bold;'\n",
    "    return '<span style=\"color = ' + color + ';' + b + '\">' + str(text) + '</span>'\n",
    "\n",
    "def print_line(text, acc, loss, number = True):\n",
    "    if number:\n",
    "        acc = '%0.2f' % acc\n",
    "        loss = '%0.2f' % loss\n",
    "    print(color.BOLD +\n",
    "              color.YELLOW + text + \"\\t\\t\" + \n",
    "              color.BLUE + acc + \"\\t\" + \n",
    "              color.GREEN + loss + color.END)\n",
    "    \n",
    "def print_score(clf, X, y, cv = 5):\n",
    "    cv_scores = compute_cv_score(clf, X, y, cv = cv)\n",
    "    acc_color = \"blue\"\n",
    "    loss_color = \"green\"\n",
    "    layout_color = \"yellow\"\n",
    "    \n",
    "    for i in range(cv):\n",
    "        print(color.BOLD + color.YELLOW + \"CV Fold %i\" % i + color.END)\n",
    "        print_line(\"\", \"acc\", \"loss\", False)\n",
    "        print_line(\"train\", cv_scores['train_acc'][i], cv_scores['train_loss'][i])\n",
    "        print_line(\"test\", cv_scores['test_acc'][i], cv_scores['test_loss'][i])\n",
    "        print()\n",
    "        \n",
    "        \n",
    "    print(color.BOLD + color.YELLOW + \"Bagged scores\" + color.END)\n",
    "    print(\"Bagged scores\") \n",
    "    print(\"\\t\\tacc\\tloss\")\n",
    "    print_line(\"train\", np.mean(cv_scores['train_acc'], np.mean(cv_scores['train_loss'][i])))\n",
    "    print_line(\"test\", np.mean(cv_scores['test_acc']), np.mean(cv_scores['test_loss']))\n",
    "    \n",
    "def save_submission(sub_path, y):\n",
    "    with open(sub_path, 'w') as f:\n",
    "        f.write(\"Id,Score\\n\")\n",
    "        for i in range(y_pred.shape[0]):\n",
    "            f.write(str(i)+','+str(y_pred[i][1])+'\\n')"
   ]
  },
  {
   "cell_type": "markdown",
   "metadata": {},
   "source": [
    "## Load the data from CSV files\n",
    "\n",
    "The data is first loaded from CSV files, with all texts saved in a dictionary with IDs as keys, and pairs storing pairs of text IDs."
   ]
  },
  {
   "cell_type": "code",
   "execution_count": 23,
   "metadata": {
    "collapsed": true
   },
   "outputs": [],
   "source": [
    "def read_csv(path, texts, nb_lines = None, labelled = True):\n",
    "    pairs = []\n",
    "    y = []\n",
    "    read_lines = 0\n",
    "    \n",
    "    with open(path,'r') as f:\n",
    "        for line in f:\n",
    "            if nb_lines != None and read_lines >= nb_lines:\n",
    "                break\n",
    "            read_lines += 1\n",
    "            \n",
    "            l = line.split(',')\n",
    "            if l[1] not in texts:\n",
    "                texts[l[1]] = l[3]\n",
    "            if l[2] not in texts:\n",
    "                if labelled:\n",
    "                    texts[l[2]] = l[4]\n",
    "                else:\n",
    "                    texts[l[2]] = l[4][:-1]                    \n",
    "\n",
    "            pairs.append([l[1],l[2]])\n",
    "\n",
    "            if labelled:\n",
    "                y.append(int(l[5][:-1])) # [:-1] is just to remove formatting at the end\n",
    "\n",
    "    if labelled:\n",
    "        return pairs, np.array(y)\n",
    "    else:\n",
    "        return pairs"
   ]
  },
  {
   "cell_type": "code",
   "execution_count": 24,
   "metadata": {},
   "outputs": [],
   "source": [
    "texts = {}\n",
    "pairs_train = []\n",
    "pairs_test = []\n",
    "y_train = []\n",
    "\n",
    "train_path = 'train.csv'\n",
    "test_path = 'test.csv'\n",
    "\n",
    "texts = {}\n",
    "nb_lines = 100\n",
    "pairs_train, y_train = read_csv(train_path, texts, nb_lines = nb_lines)\n",
    "pairs_test = read_csv(test_path, texts, labelled = False, nb_lines = nb_lines)"
   ]
  },
  {
   "cell_type": "markdown",
   "metadata": {},
   "source": [
    "## Feature extraction"
   ]
  },
  {
   "cell_type": "code",
   "execution_count": 22,
   "metadata": {
    "collapsed": true
   },
   "outputs": [],
   "source": [
    "stemmer = SnowballStemmer(\"english\")\n",
    "stopwords = nltk.corpus.stopwords.words('english')\n",
    "stopwords.extend(string.punctuation)\n",
    "stopwords.append('')\n",
    "stopwords = map(str, stopwords)\n",
    "\n",
    "def tfidf(texts):\n",
    "    ids2ind = {} # will contain the row idx of each unique text in the TFIDF matrix \n",
    "    for qid in texts:\n",
    "        ids2ind[qid] = len(ids2ind)\n",
    "\n",
    "    vec = TfidfVectorizer(ngram_range=(1, 3))\n",
    "    A = vec.fit_transform(texts.values())\n",
    "\n",
    "    return ids2ind, A\n",
    "\n",
    "\n",
    "def compute_features(pairs, A, ids2ind):\n",
    "    N = len(pairs)\n",
    "    X = np.zeros((N, 3))\n",
    "    for i in range(len(pairs)):\n",
    "        q1 = pairs[i][0]\n",
    "        q2 = pairs[i][1]\n",
    "        X[i,0] = cosine_similarity(A[ids2ind[q1],:], A[ids2ind[q2],:])\n",
    "        X[i,1] = len(texts[q1].split()) + len(texts[q2].split())\n",
    "        X[i,2] = abs(len(texts[q1].split()) - len(texts[q2].split()))\n",
    "\n",
    "    return N, X\n",
    "\n",
    "    \n",
    "def preprocess_line(line, stemmer = stemmer, stopwords = stopwords):\n",
    "    strip_punct = str.maketrans(string.punctuation, ' ' * len(string.punctuation))\n",
    "    line = line.lower().translate(strip_punct)\n",
    "\n",
    "    l = line.split(\" \")\n",
    "    l = [w for w in l if w not in stopwords]\n",
    "    l = \" \".join(map(stemmer.stem, line.split(\" \")))\n",
    "    \n",
    "    return l\n",
    "\n",
    "\n",
    "def preprocess_texts(texts):\n",
    "    for i in texts.keys():\n",
    "        texts[i] = preprocess_line(texts[i])        "
   ]
  },
  {
   "cell_type": "code",
   "execution_count": 9,
   "metadata": {
    "collapsed": true
   },
   "outputs": [],
   "source": [
    "preprocess_texts(texts)\n",
    " \n",
    "ids2ind, A = tfidf(texts)\n",
    "\n",
    "N_train, X_train = compute_features(pairs_train, A, ids2ind)\n",
    "N_test, X_test = compute_features(pairs_test, A, ids2ind)"
   ]
  },
  {
   "cell_type": "markdown",
   "metadata": {},
   "source": [
    "## Classification"
   ]
  },
  {
   "cell_type": "code",
   "execution_count": 114,
   "metadata": {},
   "outputs": [
    {
     "name": "stdout",
     "output_type": "stream",
     "text": [
      "\u001b[1m\u001b[93mCV Fold 0\u001b[0m\n",
      "\u001b[1m\u001b[93m\t\t\u001b[94macc\t\u001b[92mloss\u001b[0m\n",
      "\u001b[1m\u001b[93mtrain\t\t\u001b[94m0.86\t\u001b[92m0.38\u001b[0m\n",
      "\u001b[1m\u001b[93mtest\t\t\u001b[94m0.60\t\u001b[92m0.73\u001b[0m\n",
      "\n",
      "\u001b[1m\u001b[93mCV Fold 1\u001b[0m\n",
      "\u001b[1m\u001b[93m\t\t\u001b[94macc\t\u001b[92mloss\u001b[0m\n",
      "\u001b[1m\u001b[93mtrain\t\t\u001b[94m0.90\t\u001b[92m0.40\u001b[0m\n",
      "\u001b[1m\u001b[93mtest\t\t\u001b[94m0.66\t\u001b[92m0.71\u001b[0m\n",
      "\n",
      "\u001b[1m\u001b[93mBagged scores\u001b[0m\n",
      "Bagged scores\n",
      "\t\tacc\tloss\n"
     ]
    },
    {
     "ename": "TypeError",
     "evalue": "tuple indices must be integers or slices, not numpy.float64",
     "output_type": "error",
     "traceback": [
      "\u001b[0;31m---------------------------------------------------------------------------\u001b[0m",
      "\u001b[0;31mTypeError\u001b[0m                                 Traceback (most recent call last)",
      "\u001b[0;32m<ipython-input-114-2793bbf9ab84>\u001b[0m in \u001b[0;36m<module>\u001b[0;34m()\u001b[0m\n\u001b[1;32m      2\u001b[0m \u001b[0mclf\u001b[0m\u001b[0;34m.\u001b[0m\u001b[0mfit\u001b[0m\u001b[0;34m(\u001b[0m\u001b[0mX_train\u001b[0m\u001b[0;34m,\u001b[0m \u001b[0my_train\u001b[0m\u001b[0;34m)\u001b[0m\u001b[0;34m\u001b[0m\u001b[0m\n\u001b[1;32m      3\u001b[0m \u001b[0;34m\u001b[0m\u001b[0m\n\u001b[0;32m----> 4\u001b[0;31m \u001b[0mprint_score\u001b[0m\u001b[0;34m(\u001b[0m\u001b[0mclf\u001b[0m\u001b[0;34m,\u001b[0m \u001b[0mX_train\u001b[0m\u001b[0;34m,\u001b[0m \u001b[0my_train\u001b[0m\u001b[0;34m,\u001b[0m \u001b[0mcv\u001b[0m \u001b[0;34m=\u001b[0m \u001b[0;36m2\u001b[0m\u001b[0;34m)\u001b[0m\u001b[0;34m\u001b[0m\u001b[0m\n\u001b[0m",
      "\u001b[0;32m<ipython-input-113-39544d4ef669>\u001b[0m in \u001b[0;36mprint_score\u001b[0;34m(clf, X, y, cv)\u001b[0m\n\u001b[1;32m     61\u001b[0m     \u001b[0mprint\u001b[0m\u001b[0;34m(\u001b[0m\u001b[0;34m\"Bagged scores\"\u001b[0m\u001b[0;34m)\u001b[0m\u001b[0;34m\u001b[0m\u001b[0m\n\u001b[1;32m     62\u001b[0m     \u001b[0mprint\u001b[0m\u001b[0;34m(\u001b[0m\u001b[0;34m\"\\t\\tacc\\tloss\"\u001b[0m\u001b[0;34m)\u001b[0m\u001b[0;34m\u001b[0m\u001b[0m\n\u001b[0;32m---> 63\u001b[0;31m     \u001b[0mprint_line\u001b[0m\u001b[0;34m(\u001b[0m\u001b[0;34m\"train\"\u001b[0m\u001b[0;34m,\u001b[0m \u001b[0mnp\u001b[0m\u001b[0;34m.\u001b[0m\u001b[0mmean\u001b[0m\u001b[0;34m(\u001b[0m\u001b[0mcv_scores\u001b[0m\u001b[0;34m[\u001b[0m\u001b[0;34m'train_acc'\u001b[0m\u001b[0;34m]\u001b[0m\u001b[0;34m,\u001b[0m \u001b[0mnp\u001b[0m\u001b[0;34m.\u001b[0m\u001b[0mmean\u001b[0m\u001b[0;34m(\u001b[0m\u001b[0mcv_scores\u001b[0m\u001b[0;34m[\u001b[0m\u001b[0;34m'train_loss'\u001b[0m\u001b[0;34m]\u001b[0m\u001b[0;34m[\u001b[0m\u001b[0mi\u001b[0m\u001b[0;34m]\u001b[0m\u001b[0;34m)\u001b[0m\u001b[0;34m)\u001b[0m\u001b[0;34m)\u001b[0m\u001b[0;34m\u001b[0m\u001b[0m\n\u001b[0m\u001b[1;32m     64\u001b[0m     \u001b[0mprint_line\u001b[0m\u001b[0;34m(\u001b[0m\u001b[0;34m\"test\"\u001b[0m\u001b[0;34m,\u001b[0m \u001b[0mnp\u001b[0m\u001b[0;34m.\u001b[0m\u001b[0mmean\u001b[0m\u001b[0;34m(\u001b[0m\u001b[0mcv_scores\u001b[0m\u001b[0;34m[\u001b[0m\u001b[0;34m'test_acc'\u001b[0m\u001b[0;34m]\u001b[0m\u001b[0;34m)\u001b[0m\u001b[0;34m,\u001b[0m \u001b[0mnp\u001b[0m\u001b[0;34m.\u001b[0m\u001b[0mmean\u001b[0m\u001b[0;34m(\u001b[0m\u001b[0mcv_scores\u001b[0m\u001b[0;34m[\u001b[0m\u001b[0;34m'test_loss'\u001b[0m\u001b[0;34m]\u001b[0m\u001b[0;34m)\u001b[0m\u001b[0;34m)\u001b[0m\u001b[0;34m\u001b[0m\u001b[0m\n\u001b[1;32m     65\u001b[0m \u001b[0;34m\u001b[0m\u001b[0m\n",
      "\u001b[0;32m~/.local/lib/python3.5/site-packages/numpy/core/fromnumeric.py\u001b[0m in \u001b[0;36mmean\u001b[0;34m(a, axis, dtype, out, keepdims)\u001b[0m\n\u001b[1;32m   2955\u001b[0m \u001b[0;34m\u001b[0m\u001b[0m\n\u001b[1;32m   2956\u001b[0m     return _methods._mean(a, axis=axis, dtype=dtype,\n\u001b[0;32m-> 2957\u001b[0;31m                           out=out, **kwargs)\n\u001b[0m\u001b[1;32m   2958\u001b[0m \u001b[0;34m\u001b[0m\u001b[0m\n\u001b[1;32m   2959\u001b[0m \u001b[0;34m\u001b[0m\u001b[0m\n",
      "\u001b[0;32m~/.local/lib/python3.5/site-packages/numpy/core/_methods.py\u001b[0m in \u001b[0;36m_mean\u001b[0;34m(a, axis, dtype, out, keepdims)\u001b[0m\n\u001b[1;32m     55\u001b[0m \u001b[0;34m\u001b[0m\u001b[0m\n\u001b[1;32m     56\u001b[0m     \u001b[0mis_float16_result\u001b[0m \u001b[0;34m=\u001b[0m \u001b[0;32mFalse\u001b[0m\u001b[0;34m\u001b[0m\u001b[0m\n\u001b[0;32m---> 57\u001b[0;31m     \u001b[0mrcount\u001b[0m \u001b[0;34m=\u001b[0m \u001b[0m_count_reduce_items\u001b[0m\u001b[0;34m(\u001b[0m\u001b[0marr\u001b[0m\u001b[0;34m,\u001b[0m \u001b[0maxis\u001b[0m\u001b[0;34m)\u001b[0m\u001b[0;34m\u001b[0m\u001b[0m\n\u001b[0m\u001b[1;32m     58\u001b[0m     \u001b[0;31m# Make this warning show up first\u001b[0m\u001b[0;34m\u001b[0m\u001b[0;34m\u001b[0m\u001b[0m\n\u001b[1;32m     59\u001b[0m     \u001b[0;32mif\u001b[0m \u001b[0mrcount\u001b[0m \u001b[0;34m==\u001b[0m \u001b[0;36m0\u001b[0m\u001b[0;34m:\u001b[0m\u001b[0;34m\u001b[0m\u001b[0m\n",
      "\u001b[0;32m~/.local/lib/python3.5/site-packages/numpy/core/_methods.py\u001b[0m in \u001b[0;36m_count_reduce_items\u001b[0;34m(arr, axis)\u001b[0m\n\u001b[1;32m     48\u001b[0m     \u001b[0mitems\u001b[0m \u001b[0;34m=\u001b[0m \u001b[0;36m1\u001b[0m\u001b[0;34m\u001b[0m\u001b[0m\n\u001b[1;32m     49\u001b[0m     \u001b[0;32mfor\u001b[0m \u001b[0max\u001b[0m \u001b[0;32min\u001b[0m \u001b[0maxis\u001b[0m\u001b[0;34m:\u001b[0m\u001b[0;34m\u001b[0m\u001b[0m\n\u001b[0;32m---> 50\u001b[0;31m         \u001b[0mitems\u001b[0m \u001b[0;34m*=\u001b[0m \u001b[0marr\u001b[0m\u001b[0;34m.\u001b[0m\u001b[0mshape\u001b[0m\u001b[0;34m[\u001b[0m\u001b[0max\u001b[0m\u001b[0;34m]\u001b[0m\u001b[0;34m\u001b[0m\u001b[0m\n\u001b[0m\u001b[1;32m     51\u001b[0m     \u001b[0;32mreturn\u001b[0m \u001b[0mitems\u001b[0m\u001b[0;34m\u001b[0m\u001b[0m\n\u001b[1;32m     52\u001b[0m \u001b[0;34m\u001b[0m\u001b[0m\n",
      "\u001b[0;31mTypeError\u001b[0m: tuple indices must be integers or slices, not numpy.float64"
     ]
    }
   ],
   "source": [
    "clf = RandomForestClassifier(n_estimators=50, max_depth = 4, n_jobs=-1)\n",
    "clf.fit(X_train, y_train)\n",
    "\n",
    "print_score(clf, X_train, y_train, cv = 2)"
   ]
  },
  {
   "cell_type": "code",
   "execution_count": 91,
   "metadata": {
    "collapsed": true
   },
   "outputs": [],
   "source": [
    "y_pred = clf.predict_proba(X_test)\n",
    "\n",
    "sub_path = 'submissions.csv'\n",
    "save_submission(sub_path, y_pred)"
   ]
  },
  {
   "cell_type": "markdown",
   "metadata": {},
   "source": [
    "References"
   ]
  },
  {
   "cell_type": "code",
   "execution_count": 92,
   "metadata": {},
   "outputs": [
    {
     "data": {
      "text/plain": [
       "'\\x1b[31mhello\\x1b[0m'"
      ]
     },
     "execution_count": 92,
     "metadata": {},
     "output_type": "execute_result"
    }
   ],
   "source": [
    "from termcolor import colored\n",
    "\n",
    "colored(\"hello\", \"red\")"
   ]
  },
  {
   "cell_type": "code",
   "execution_count": 93,
   "metadata": {},
   "outputs": [
    {
     "data": {
      "text/html": [
       "<span style='font-weight:bold; color: red;'>test</span>"
      ],
      "text/plain": [
       "<IPython.core.display.HTML object>"
      ]
     },
     "execution_count": 93,
     "metadata": {},
     "output_type": "execute_result"
    }
   ],
   "source": [
    "\n",
    "html_print(\"<span style='font-weight:bold; color: red;'>test</span>\")"
   ]
  },
  {
   "cell_type": "code",
   "execution_count": 94,
   "metadata": {},
   "outputs": [
    {
     "data": {
      "text/html": [
       "<span style=\"color = yellow;font-weight: bold;\">train\t\t</span><span style=\"color = blue;font-weight: bold;\">0.2f</span><span style=\"color = green;font-weight: bold;\">0.2f</span>"
      ],
      "text/plain": [
       "<IPython.core.display.HTML object>"
      ]
     },
     "execution_count": 94,
     "metadata": {},
     "output_type": "execute_result"
    }
   ],
   "source": [
    "html_print('<span style=\"color = yellow;font-weight: bold;\">train\t\t</span><span style=\"color = blue;font-weight: bold;\">0.2f</span><span style=\"color = green;font-weight: bold;\">0.2f</span>')"
   ]
  },
  {
   "cell_type": "code",
   "execution_count": 95,
   "metadata": {},
   "outputs": [
    {
     "name": "stdout",
     "output_type": "stream",
     "text": [
      "a \u001b[31mb_\u001b[0m c\n"
     ]
    }
   ],
   "source": [
    "def color_in_tokens(tokens, color_token_contains=\"_\"):\n",
    "  \"\"\"\n",
    "  Highlights the tokens which contain 'color_token_contains'\n",
    "\n",
    "  :param tokens: list of strings\n",
    "  :param color_token_contains: str (the string for marking a token red)\n",
    "  :return: str\n",
    "  \"\"\"\n",
    "  return \" \".join([\"\\x1b[31m%s\\x1b[0m\" % i if color_token_contains in i else i for i in tokens])\n",
    "\n",
    "print(color_in_tokens(['a','b_','c']))"
   ]
  },
  {
   "cell_type": "code",
   "execution_count": 88,
   "metadata": {},
   "outputs": [
    {
     "data": {
      "text/plain": [
       "'0.22'"
      ]
     },
     "execution_count": 88,
     "metadata": {},
     "output_type": "execute_result"
    }
   ],
   "source": [
    "a = 0.222\n",
    "s = '%0.2f' % a\n",
    "s"
   ]
  },
  {
   "cell_type": "code",
   "execution_count": null,
   "metadata": {
    "collapsed": true
   },
   "outputs": [],
   "source": []
  }
 ],
 "metadata": {
  "kernelspec": {
   "display_name": "Python 3",
   "language": "python",
   "name": "python3"
  },
  "language_info": {
   "codemirror_mode": {
    "name": "ipython",
    "version": 3
   },
   "file_extension": ".py",
   "mimetype": "text/x-python",
   "name": "python",
   "nbconvert_exporter": "python",
   "pygments_lexer": "ipython3",
   "version": "3.5.2"
  }
 },
 "nbformat": 4,
 "nbformat_minor": 2
}
