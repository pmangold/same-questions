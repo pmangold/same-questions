{
 "cells": [
  {
   "cell_type": "markdown",
   "metadata": {},
   "source": [
    "# ALTEGRAD - Detection of questions with same meaning\n",
    "\n",
    "This notebook loads the data, extract features, classify the test set and save it to 'submissions.csv', a file to be submitted on Kaggle.\n",
    "\n",
    "## Definition of the problem\n",
    "\n",
    "The problem is a set of pairs of questions, where the output to predict is whether both questions in a pair have the same meaning or not.\n",
    "\n",
    "Let's first import some libraries and define functions for score computations, cross-validation, etc."
   ]
  },
  {
   "cell_type": "code",
   "execution_count": 1,
   "metadata": {
    "collapsed": true
   },
   "outputs": [],
   "source": [
    "import numpy as np\n",
    "import unidecode\n",
    "\n",
    "from sklearn.ensemble import RandomForestClassifier\n",
    "from sklearn.linear_model import LinearRegression\n",
    "\n",
    "from sklearn.feature_extraction.text import TfidfVectorizer\n",
    "from sklearn.neural_network import MLPClassifier\n",
    "\n",
    "from sklearn.model_selection import GridSearchCV\n",
    "\n",
    "\n",
    "from tools import *"
   ]
  },
  {
   "cell_type": "markdown",
   "metadata": {},
   "source": [
    "## Load the data from CSV files\n",
    "\n",
    "The data is first loaded from CSV files, with all texts saved in a dictionary with IDs as keys, and pairs storing pairs of text IDs."
   ]
  },
  {
   "cell_type": "code",
   "execution_count": 13,
   "metadata": {
    "collapsed": true
   },
   "outputs": [],
   "source": [
    "texts = {}\n",
    "pairs_train = []\n",
    "pairs_test = []\n",
    "y_train = []\n",
    "\n",
    "train_path = 'train.csv'\n",
    "test_path = 'test.csv'\n",
    "\n",
    "texts = {}\n",
    "nb_lines = None\n",
    "pairs_train, y_train = read_csv(train_path, texts, nb_lines = nb_lines)\n",
    "pairs_test = read_csv(test_path, texts, labelled = False, nb_lines = nb_lines)\n",
    "\n",
    "\n",
    "\n",
    "\n",
    "        \n",
    "preprocess_texts(texts)"
   ]
  },
  {
   "cell_type": "markdown",
   "metadata": {},
   "source": [
    "## Feature extraction"
   ]
  },
  {
   "cell_type": "code",
   "execution_count": 14,
   "metadata": {},
   "outputs": [
    {
     "name": "stdout",
     "output_type": "stream",
     "text": [
      "<generator object get_vocab.<locals>.<genexpr> at 0x7effe2eb7e60>\n",
      "['the', 'what', 'is', 'how', 'i', 'to', 'a', 'do', 'in', 'are', 'of', 'can', 'and', 'for', 'you', 'best', 'whi', 'my', 'on', 'it', 'doe', 'some', 'get', 'which', 's', 'should', 'be', 'have', 'your', 'that', 'with', 'from', 'india', 'or', 'an', 'way', 'if', 'at', 'peopl', 'quora', 'who', 'will', 'good', 'make', 'learn', 'like', 'use', 'most', 'when', 'know']\n",
      "... 14412\n",
      "58940\n"
     ]
    }
   ],
   "source": [
    "from collections import Counter\n",
    "from itertools import chain\n",
    "\n",
    "def get_vocab(lst):\n",
    "    print(w for txt in lst for w in lst[txt].split())\n",
    "    vocabcount = Counter(w for txt in lst for w in lst[txt].split())\n",
    "    vocab = map(lambda x: x[0], sorted(vocabcount.items(), key=lambda x: -x[1]))\n",
    "    return list(vocab), vocabcount\n",
    "\n",
    "vocab, vocabcount = get_vocab(texts)\n",
    "\n",
    "print(vocab[:50])\n",
    "print('...',len(vocab))\n",
    "\n",
    "print(len(texts))"
   ]
  },
  {
   "cell_type": "code",
   "execution_count": 6,
   "metadata": {
    "collapsed": true
   },
   "outputs": [],
   "source": [
    "def tfidf(texts):\n",
    "    ids2ind = {} # will contain the row idx of each unique text in the TFIDF matrix \n",
    "    for qid in texts:\n",
    "        ids2ind[qid] = len(ids2ind)\n",
    "\n",
    "    vec = TfidfVectorizer(ngram_range=(1, 3))\n",
    "    A = vec.fit_transform(texts.values())\n",
    "\n",
    "    return ids2ind, A\n",
    "\n",
    "\n",
    "def compute_features(pairs, A, ids2ind):\n",
    "    N = len(pairs)\n",
    "    X = np.zeros((N, 3))\n",
    "    for i in range(len(pairs)):\n",
    "        q1 = pairs[i][0]\n",
    "        q2 = pairs[i][1]\n",
    "        X[i,0] = cosine_similarity(A[ids2ind[q1],:], A[ids2ind[q2],:])\n",
    "        X[i,1] = len(texts[q1].split()) + len(texts[q2].split())\n",
    "        X[i,2] = abs(len(texts[q1].split()) - len(texts[q2].split()))\n",
    "\n",
    "    return N, X\n"
   ]
  },
  {
   "cell_type": "code",
   "execution_count": 4,
   "metadata": {
    "collapsed": true
   },
   "outputs": [],
   "source": [
    "\n",
    " \n",
    "ids2ind, A = tfidf(texts)\n",
    "\n",
    "N_train, X_train = compute_features(pairs_train, A, ids2ind)\n",
    "N_test, X_test = compute_features(pairs_test, A, ids2ind)"
   ]
  },
  {
   "cell_type": "markdown",
   "metadata": {},
   "source": [
    "## Classification"
   ]
  },
  {
   "cell_type": "code",
   "execution_count": 5,
   "metadata": {},
   "outputs": [
    {
     "name": "stdout",
     "output_type": "stream",
     "text": [
      "\u001b[1m\u001b[93mCV Fold 0\u001b[0m\n",
      "\u001b[1m\u001b[93m\t\t\u001b[94macc\t\u001b[92mloss\u001b[0m\n",
      "\u001b[1m\u001b[93mtrain\t\t\u001b[94m0.62\t\u001b[92m0.62\u001b[0m\n",
      "\u001b[1m\u001b[93mtest\t\t\u001b[94m0.67\t\u001b[92m0.67\u001b[0m\n",
      "\n",
      "\u001b[1m\u001b[93mCV Fold 1\u001b[0m\n",
      "\u001b[1m\u001b[93m\t\t\u001b[94macc\t\u001b[92mloss\u001b[0m\n",
      "\u001b[1m\u001b[93mtrain\t\t\u001b[94m0.67\t\u001b[92m0.64\u001b[0m\n",
      "\u001b[1m\u001b[93mtest\t\t\u001b[94m0.67\t\u001b[92m0.64\u001b[0m\n",
      "\n",
      "\u001b[1m\u001b[93mCV Fold 2\u001b[0m\n",
      "\u001b[1m\u001b[93m\t\t\u001b[94macc\t\u001b[92mloss\u001b[0m\n",
      "\u001b[1m\u001b[93mtrain\t\t\u001b[94m0.67\t\u001b[92m0.64\u001b[0m\n",
      "\u001b[1m\u001b[93mtest\t\t\u001b[94m0.67\t\u001b[92m0.62\u001b[0m\n",
      "\n",
      "\u001b[1m\u001b[93mCV Fold 3\u001b[0m\n",
      "\u001b[1m\u001b[93m\t\t\u001b[94macc\t\u001b[92mloss\u001b[0m\n",
      "\u001b[1m\u001b[93mtrain\t\t\u001b[94m0.66\t\u001b[92m0.69\u001b[0m\n",
      "\u001b[1m\u001b[93mtest\t\t\u001b[94m0.64\t\u001b[92m0.66\u001b[0m\n",
      "\n",
      "\u001b[1m\u001b[93mCV Fold 4\u001b[0m\n",
      "\u001b[1m\u001b[93m\t\t\u001b[94macc\t\u001b[92mloss\u001b[0m\n",
      "\u001b[1m\u001b[93mtrain\t\t\u001b[94m0.36\t\u001b[92m1.72\u001b[0m\n",
      "\u001b[1m\u001b[93mtest\t\t\u001b[94m0.36\t\u001b[92m2.36\u001b[0m\n",
      "\n",
      "\u001b[1m\u001b[93mCV Fold 5\u001b[0m\n",
      "\u001b[1m\u001b[93m\t\t\u001b[94macc\t\u001b[92mloss\u001b[0m\n",
      "\u001b[1m\u001b[93mtrain\t\t\u001b[94m0.67\t\u001b[92m0.63\u001b[0m\n",
      "\u001b[1m\u001b[93mtest\t\t\u001b[94m0.57\t\u001b[92m0.70\u001b[0m\n",
      "\n",
      "\u001b[1m\u001b[93mCV Fold 6\u001b[0m\n",
      "\u001b[1m\u001b[93m\t\t\u001b[94macc\t\u001b[92mloss\u001b[0m\n",
      "\u001b[1m\u001b[93mtrain\t\t\u001b[94m0.66\t\u001b[92m0.64\u001b[0m\n",
      "\u001b[1m\u001b[93mtest\t\t\u001b[94m0.69\t\u001b[92m0.62\u001b[0m\n",
      "\n",
      "\u001b[1m\u001b[93mBagged scores\u001b[0m\n",
      "\u001b[1m\u001b[93mtrain\t\t\u001b[94m0.62\t\u001b[92m0.64\u001b[0m\n",
      "\u001b[1m\u001b[93mtest\t\t\u001b[94m0.61\t\u001b[92m0.89\u001b[0m\n"
     ]
    },
    {
     "name": "stderr",
     "output_type": "stream",
     "text": [
      "/usr/local/lib/python3.5/dist-packages/sklearn/neural_network/multilayer_perceptron.py:564: ConvergenceWarning: Stochastic Optimizer: Maximum iterations (200) reached and the optimization hasn't converged yet.\n",
      "  % self.max_iter, ConvergenceWarning)\n",
      "/usr/local/lib/python3.5/dist-packages/sklearn/neural_network/multilayer_perceptron.py:564: ConvergenceWarning: Stochastic Optimizer: Maximum iterations (200) reached and the optimization hasn't converged yet.\n",
      "  % self.max_iter, ConvergenceWarning)\n"
     ]
    }
   ],
   "source": [
    "clf = MLPClassifier((10))\n",
    "#RandomForestClassifier(n_estimators=500, max_depth = 4, n_jobs=-1)\n",
    "clf.fit(X_train, y_train)\n",
    "\n",
    "print_score(clf, X_train, y_train, cv = 7)"
   ]
  },
  {
   "cell_type": "code",
   "execution_count": 6,
   "metadata": {
    "collapsed": true
   },
   "outputs": [],
   "source": [
    "y_pred = clf.predict_proba(X_test)\n",
    "\n",
    "sub_path = 'submissions.csv'\n",
    "save_submission(sub_path, y_pred)"
   ]
  },
  {
   "cell_type": "markdown",
   "metadata": {},
   "source": [
    "References"
   ]
  }
 ],
 "metadata": {
  "kernelspec": {
   "display_name": "Python 3",
   "language": "python",
   "name": "python3"
  },
  "language_info": {
   "codemirror_mode": {
    "name": "ipython",
    "version": 3
   },
   "file_extension": ".py",
   "mimetype": "text/x-python",
   "name": "python",
   "nbconvert_exporter": "python",
   "pygments_lexer": "ipython3",
   "version": "3.5.2"
  }
 },
 "nbformat": 4,
 "nbformat_minor": 2
}
