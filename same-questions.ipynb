{
 "cells": [
  {
   "cell_type": "markdown",
   "metadata": {},
   "source": [
    "# ALTEGRAD - Detection of questions with same meaning\n",
    "\n",
    "This notebook loads the data, extract features, classify the test set and save it to 'submissions.csv', a file to be submitted on Kaggle.\n",
    "\n",
    "## Definition of the problem\n",
    "\n",
    "The problem is a set of pairs of questions, where the output to predict is whether both questions in a pair have the same meaning or not.\n",
    "\n",
    "Let's first import some libraries and define functions for score computations, cross-validation, etc."
   ]
  },
  {
   "cell_type": "code",
   "execution_count": 13,
   "metadata": {},
   "outputs": [],
   "source": [
    "import numpy as np\n",
    "import unidecode\n",
    "\n",
    "from sklearn.ensemble import RandomForestClassifier\n",
    "from sklearn.linear_model import LinearRegression\n",
    "\n",
    "from sklearn.feature_extraction.text import TfidfVectorizer\n",
    "from sklearn.metrics.pairwise import cosine_similarity\n",
    "from sklearn.model_selection import cross_val_score\n",
    "from sklearn.metrics import make_scorer\n",
    "\n",
    "from sklearn.model_selection import GridSearchCV\n",
    "\n",
    "import string\n",
    "import nltk\n",
    "from nltk.stem.snowball import SnowballStemmer"
   ]
  },
  {
   "cell_type": "code",
   "execution_count": 42,
   "metadata": {},
   "outputs": [],
   "source": [
    "def loss(y, p):\n",
    "    N = y.shape[0]\n",
    "    l = 0\n",
    "    ignored = 0\n",
    "    for i in range(N):\n",
    "        if (y[i] == 0 and p[i][1] == 1.) or (y[i] == 1 and p[i][1] == 0.):\n",
    "            print(\"IGNORED:\", str(p[i][1]), \" \", str(y[i])) \n",
    "            ignored += 1\n",
    "        else:\n",
    "            if y[i] == 0:\n",
    "                l -= np.log(1 - p[i][1])\n",
    "            else:\n",
    "                l -= np.log(p[i][1])\n",
    "    return l / (N - ignored)\n",
    "\n",
    "\n",
    "def compute_score(clf, X, y):\n",
    "    scorer = make_scorer(loss, greater_is_better = True, needs_proba = True)\n",
    "    return scorer(clf, X, y)\n",
    "\n",
    "\n",
    "def compute_cv_score(clf, X, y, cv = 5):\n",
    "    scorer = make_scorer(loss, greater_is_better = True, needs_proba = True)\n",
    "    return cross_val_score(clf, X, y = y, scoring = scorer, n_jobs = -1, cv = cv)\n",
    "\n",
    "\n",
    "def print_score(clf, X, y, cv = 5):\n",
    "    cv_scores = compute_cv_score(clf, X, y, cv = cv)\n",
    "\n",
    "    print(\"CV Fold\\t\\tScore\")\n",
    "    for i in range(cv):\n",
    "        s = \"   \" + str(i) + \"\\t\\t\" + str('%0.2f' % cv_scores[i])\n",
    "        print(s)\n",
    "\n",
    "    print()\n",
    "    print(\"Mean score: \" + str('%0.2f' % np.mean(cv_scores)))\n",
    "    \n",
    "def save_submission(sub_path, y):\n",
    "    with open(sub_path, 'w') as f:\n",
    "        f.write(\"Id,Score\\n\")\n",
    "        for i in range(y_pred.shape[0]):\n",
    "            f.write(str(i)+','+str(y_pred[i][1])+'\\n')"
   ]
  },
  {
   "cell_type": "markdown",
   "metadata": {},
   "source": [
    "## Load the data from CSV files\n",
    "\n",
    "The data is first loaded from CSV files, with all texts saved in a dictionary with IDs as keys, and pairs storing pairs of text IDs."
   ]
  },
  {
   "cell_type": "code",
   "execution_count": 38,
   "metadata": {
    "collapsed": true
   },
   "outputs": [],
   "source": [
    "def read_csv(path, texts, nb_lines = None, labelled = True):\n",
    "    pairs = []\n",
    "    y = []\n",
    "    read_lines = 0\n",
    "    \n",
    "    with open(path,'r') as f:\n",
    "        for line in f:\n",
    "            if nb_lines != None and read_lines >= nb_lines:\n",
    "                break\n",
    "            read_lines += 1\n",
    "            \n",
    "            l = line.split(',')\n",
    "            if l[1] not in texts:\n",
    "                texts[l[1]] = l[3]\n",
    "            if l[2] not in texts:\n",
    "                if labelled:\n",
    "                    texts[l[2]] = l[4]\n",
    "                else:\n",
    "                    texts[l[2]] = l[4][:-1]                    \n",
    "\n",
    "            pairs.append([l[1],l[2]])\n",
    "\n",
    "            if labelled:\n",
    "                y.append(int(l[5][:-1])) # [:-1] is just to remove formatting at the end\n",
    "\n",
    "    if labelled:\n",
    "        return pairs, np.array(y)\n",
    "    else:\n",
    "        return pairs"
   ]
  },
  {
   "cell_type": "code",
   "execution_count": 28,
   "metadata": {
    "collapsed": true
   },
   "outputs": [],
   "source": [
    "texts = {}\n",
    "pairs_train = []\n",
    "pairs_test = []\n",
    "y_train = []\n",
    "\n",
    "train_path = 'train.csv'\n",
    "test_path = 'test.csv'\n",
    "\n",
    "texts = {}\n",
    "nb_lines = 10000\n",
    "pairs_train, y_train = read_csv(train_path, texts, nb_lines = nb_lines)\n",
    "pairs_test = read_csv(test_path, texts, labelled = False, nb_lines = nb_lines)"
   ]
  },
  {
   "cell_type": "markdown",
   "metadata": {},
   "source": [
    "## Feature extraction"
   ]
  },
  {
   "cell_type": "code",
   "execution_count": 29,
   "metadata": {},
   "outputs": [],
   "source": [
    "stemmer = SnowballStemmer(\"english\")\n",
    "stopwords = nltk.corpus.stopwords.words('english')\n",
    "stopwords.extend(string.punctuation)\n",
    "stopwords.append('')\n",
    "stopwords = map(str, stopwords)\n",
    "\n",
    "def tfidf(texts):\n",
    "    ids2ind = {} # will contain the row idx of each unique text in the TFIDF matrix \n",
    "    for qid in texts:\n",
    "        ids2ind[qid] = len(ids2ind)\n",
    "\n",
    "    vec = TfidfVectorizer(ngram_range=(2, 4))\n",
    "    A = vec.fit_transform(texts.values())\n",
    "\n",
    "    return ids2ind, A\n",
    "\n",
    "\n",
    "def compute_features(pairs, A, ids2ind):\n",
    "    N = len(pairs)\n",
    "    X = np.zeros((N, 3))\n",
    "    for i in range(len(pairs)):\n",
    "        q1 = pairs[i][0]\n",
    "        q2 = pairs[i][1]\n",
    "        X[i,0] = cosine_similarity(A[ids2ind[q1],:], A[ids2ind[q2],:])\n",
    "        X[i,1] = len(texts[q1].split()) + len(texts[q2].split())\n",
    "        X[i,2] = abs(len(texts[q1].split()) - len(texts[q2].split()))\n",
    "\n",
    "    return N, X\n",
    "\n",
    "    \n",
    "def preprocess_line(line, stemmer = stemmer, stopwords = stopwords):\n",
    "    strip_punct = str.maketrans(string.punctuation, ' ' * len(string.punctuation))\n",
    "    line = line.lower().translate(strip_punct)\n",
    "\n",
    "    l = line.split(\" \")\n",
    "    l = [w for w in l if w not in stopwords]\n",
    "    l = \" \".join(map(stemmer.stem, line.split(\" \")))\n",
    "    \n",
    "    return l\n",
    "\n",
    "\n",
    "def preprocess_texts(texts):\n",
    "    for i in texts.keys():\n",
    "        texts[i] = preprocess_line(texts[i])\n",
    "        \n",
    "        "
   ]
  },
  {
   "cell_type": "code",
   "execution_count": 30,
   "metadata": {},
   "outputs": [],
   "source": [
    "preprocess_texts(texts)\n",
    " \n",
    "ids2ind, A = tfidf(texts)\n",
    "\n",
    "N_train, X_train = compute_features(pairs_train, A, ids2ind)\n",
    "N_test, X_test = compute_features(pairs_test, A, ids2ind)"
   ]
  },
  {
   "cell_type": "markdown",
   "metadata": {},
   "source": [
    "## Classification"
   ]
  },
  {
   "cell_type": "code",
   "execution_count": 43,
   "metadata": {},
   "outputs": [
    {
     "name": "stdout",
     "output_type": "stream",
     "text": [
      "IGNORED: 0.0   1\n",
      "IGNORED: 1.0   0\n",
      "IGNORED: 1.0   0\n",
      "IGNORED: 1.0   0\n",
      "IGNORED: 0.0   1\n",
      "IGNORED: 1.0   0\n",
      "IGNORED: 1.0   0\n",
      "IGNORED: 1.0   0\n",
      "IGNORED: 1.0   0\n",
      "IGNORED: 1.0   0\n",
      "IGNORED: 1.0   0\n",
      "IGNORED: 1.0   0\n",
      "IGNORED: 1.0   0\n",
      "IGNORED: 1.0   0\n",
      "IGNORED: 1.0   0\n",
      "IGNORED: 0.0   1\n",
      "IGNORED: 0.0   1\n",
      "IGNORED: 1.0   0\n",
      "CV Fold\t\tScore\n",
      "   0\t\t0.78\n",
      "   1\t\t0.77\n",
      "   2\t\t0.72\n",
      "   3\t\t0.75\n",
      "   4\t\t0.79\n",
      "   5\t\t0.76\n",
      "   6\t\t0.75\n",
      "\n",
      "Mean score: 0.76\n"
     ]
    }
   ],
   "source": [
    "clf = RandomForestClassifier(n_estimators=500, n_jobs=-1)\n",
    "clf.fit(X_train, y_train)\n",
    "y_pred = clf.predict_proba(X_test)\n",
    "\n",
    "print_score(clf, X_train, y_train, cv = 7)"
   ]
  },
  {
   "cell_type": "code",
   "execution_count": 20,
   "metadata": {
    "collapsed": true
   },
   "outputs": [],
   "source": [
    "y_pred = clf.predict_proba(X_test)\n",
    "\n",
    "sub_path = 'submissions.csv'\n",
    "save_submission(sub_path, y_pred)"
   ]
  },
  {
   "cell_type": "code",
   "execution_count": null,
   "metadata": {
    "collapsed": true
   },
   "outputs": [],
   "source": []
  }
 ],
 "metadata": {
  "kernelspec": {
   "display_name": "Python 3",
   "language": "python",
   "name": "python3"
  },
  "language_info": {
   "codemirror_mode": {
    "name": "ipython",
    "version": 3
   },
   "file_extension": ".py",
   "mimetype": "text/x-python",
   "name": "python",
   "nbconvert_exporter": "python",
   "pygments_lexer": "ipython3",
   "version": "3.5.2"
  }
 },
 "nbformat": 4,
 "nbformat_minor": 2
}
